{
 "cells": [
  {
   "cell_type": "code",
   "execution_count": 18,
   "metadata": {},
   "outputs": [],
   "source": [
    "import numpy as np\n",
    "from osgeo import gdal\n",
    "from PIL import Image\n",
    "\n",
    "from d22_utils import get_extent, get_query_bbox, add_colorbar, print_info\n",
    "\n",
    "import matplotlib.pyplot as plt\n",
    "plt.rcParams.update({'font.size': 22})\n",
    "from matplotlib import gridspec\n",
    "\n",
    "from copy import deepcopy"
   ]
  },
  {
   "cell_type": "code",
   "execution_count": 19,
   "metadata": {},
   "outputs": [],
   "source": [
    "# Load query bounding box\n",
    "query_bbox = get_query_bbox(\"bolzano.geojson\")"
   ]
  },
  {
   "cell_type": "code",
   "execution_count": 20,
   "metadata": {},
   "outputs": [],
   "source": [
    "# Select data\n",
    "data_type = 'L2' # 'L1 or L2'\n",
    "warped = False\n",
    "\n",
    "if data_type == 'L2':\n",
    "    if warped:\n",
    "        filepaths = [\"results_warped/EURAC_min-evi_4326.tif\", \"results_warped/VITO_min-evi_4326.tif\", \"results/WWU_GEE_min-evi.png\"]\n",
    "    else:\n",
    "        filepaths = [\"results/EURAC_min-evi.tif\", \"results/VITO_min-evi.tif\", \"results/WWU_GEE_min-evi.png\", \"results/JRC_min-evi.tif\"]\n",
    "elif data_type == 'L1':\n",
    "    if warped:\n",
    "        filepaths = [\"results_warped/EODC_min-evi_L1C_4326.tif\", \"results_warped/VITO_min-evi_L1C_4326.tif\"]\n",
    "    else:\n",
    "        filepaths = [\"results/EODC_min-evi_L1C.tif\", \"results/VITO_min-evi_L1C.tif\", \"results/sinergise_min-evi_L1C.tif\", \"results/JRC_min-evi_L1C.tif\"]"
   ]
  },
  {
   "cell_type": "code",
   "execution_count": 21,
   "metadata": {},
   "outputs": [
    {
     "name": "stdout",
     "output_type": "stream",
     "text": [
      "EURAC\n",
      "EURAC\n",
      "VITO\n",
      "VITO\n",
      "WWU\n",
      "WWU-GEE\n",
      "JRC\n",
      "JRC\n"
     ]
    }
   ],
   "source": [
    "# Load data\n",
    "rasters = {}\n",
    "for k, item in enumerate(filepaths):\n",
    "    item_name = item.split('/')[-1].split('_')[0]\n",
    "    print(item_name)\n",
    "    if item_name == \"WWU\":\n",
    "        item_name = \"WWU-GEE\"\n",
    "        rasters[item_name] = {\n",
    "        'ds': None,\n",
    "        'data': np.asarray(Image.open(item)).astype(np.float64)\n",
    "    }\n",
    "    else:\n",
    "        rasters[item_name] = {\n",
    "            'ds': gdal.Open(item),\n",
    "            'data': gdal.Open(item).ReadAsArray().astype(np.float64)\n",
    "        }\n",
    "    if not isinstance(rasters[item_name]['data'], np.float64):\n",
    "        rasters[item_name]['data'] = rasters[item_name]['data'].astype(np.float64)\n",
    "    print(item_name)"
   ]
  },
  {
   "cell_type": "code",
   "execution_count": 22,
   "metadata": {},
   "outputs": [
    {
     "name": "stdout",
     "output_type": "stream",
     "text": [
      "EURAC\n",
      "Raster shape: (679, 962)\n",
      "Min: -327675.0\n",
      "Mean: -14.551\n",
      "Max: 0.0\n",
      "Negative values [%]: 20.0 %\n",
      "Negative values (<-1000) [%]: 0.1 %\n",
      "Zero values [%]: 80.0 %\n",
      "Nan values [%]: 0.0 %\n",
      "\n",
      "\n",
      "VITO\n",
      "Raster shape: (988, 1488)\n",
      "Min: -3367.926\n",
      "Mean: 0.124\n",
      "Max: 0.9\n",
      "Negative values [%]: 5.0 %\n",
      "Negative values (<-1000) [%]: 0.0 %\n",
      "Zero values [%]: 0.0 %\n",
      "Nan values [%]: 0.6 %\n",
      "\n",
      "\n",
      "WWU-GEE\n",
      "Raster shape: (458, 1000)\n",
      "Min: 0.0\n",
      "Mean: 1.446\n",
      "Max: 125.0\n",
      "Negative values [%]: 0.0 %\n",
      "Negative values (<-1000) [%]: 0.0 %\n",
      "Zero values [%]: 96.5 %\n",
      "Nan values [%]: 0.0 %\n",
      "\n",
      "\n",
      "JRC\n",
      "Raster shape: (677, 999)\n",
      "Min: -inf\n",
      "Mean: -inf\n",
      "Max: 6.527\n",
      "Negative values [%]: 13.600000000000001 %\n",
      "Negative values (<-1000) [%]: 0.0 %\n",
      "Zero values [%]: 0.0 %\n",
      "Nan values [%]: 0.0 %\n",
      "\n",
      "\n"
     ]
    },
    {
     "name": "stderr",
     "output_type": "stream",
     "text": [
      "/home/luca/eodc/repos/openeo/openeo-D22/d22_utils.py:41: RuntimeWarning: invalid value encountered in less\n",
      "  print('Negative values [%]:', np.round(np.sum(data < 0) / (data.shape[0] * data.shape[1]), decimals=3) * 100, '%')\n",
      "/home/luca/eodc/repos/openeo/openeo-D22/d22_utils.py:42: RuntimeWarning: invalid value encountered in less\n",
      "  print('Negative values (<-1000) [%]:', np.round(np.sum(data < -1000) / (data.shape[0] * data.shape[1]), decimals=3) * 100, '%')\n"
     ]
    }
   ],
   "source": [
    "# Print some info about raster data\n",
    "for item in rasters:\n",
    "    print(item)\n",
    "    print_info((rasters[item]['data']))"
   ]
  },
  {
   "cell_type": "code",
   "execution_count": null,
   "metadata": {
    "scrolled": false
   },
   "outputs": [],
   "source": [
    "# Make plot\n",
    "\n",
    "# create colormap\n",
    "current_cmap = plt.get_cmap(\"BrBG\")\n",
    "current_cmap.set_bad(color=[0.85, 0.85, 0.85])\n",
    "\n",
    "\n",
    "fig = plt.figure(figsize=(20, 10*len(rasters)))\n",
    "gs = gridspec.GridSpec(len(rasters), 2, width_ratios=[3, 1])\n",
    "gs.update(wspace=0.2, hspace=0.2)\n",
    "for k, item in enumerate(rasters):\n",
    "    ## Create axis for subplot ##\n",
    "    j = k+k     \n",
    "    ax1 = plt.subplot(gs[j+1])\n",
    "    ax2 = plt.subplot(gs[j])\n",
    "    \n",
    "    item0 = deepcopy(rasters[item]['data'])\n",
    "    #print(np.min(item0), np.max(item0))\n",
    "    #print(np.sum(np.isinf(item0)))\n",
    "    item0[item0==0] = np.nan\n",
    "    item0[np.isinf(item0)] = np.nan\n",
    "    #print(np.sum(np.isnan(item0)))\n",
    "    \n",
    "    \n",
    "    ## Plot map ##\n",
    "    ## Plot normalized histogram ##\n",
    "    if rasters[item]['ds'] and rasters[item]['ds'].GetProjection():\n",
    "        hist_range = (-3, 3)\n",
    "    else:\n",
    "        hist_range = (0, 255)\n",
    "    N = item0.shape[0] * item0.shape[1]\n",
    "    tmp_data = item0.reshape(1, N).flatten()\n",
    "    tmp_data[tmp_data == -np.inf] = -9999\n",
    "    tmp_data[np.isnan(tmp_data)] = -9999\n",
    "    im = ax1.hist(tmp_data, bins=100, range=hist_range, density=True)\n",
    "    ax1.get_yaxis().set_ticks([]) # no y ticks\n",
    "    \n",
    "    ## Plot map ##\n",
    "    subplot_title = item.replace('sinergise', 'Sinergise')\n",
    "    ax2.set_title(subplot_title)\n",
    "    #if k==0:\n",
    "    #    v_min = -1\n",
    "    #    v_max = 0.5\n",
    "    #elif k==1:\n",
    "    #    v_min = -1\n",
    "    #    v_max = 0.5\n",
    "    v_min = -1\n",
    "    v_max = 0.5\n",
    "    if rasters[item]['ds'] and rasters[item]['ds'].GetProjection():\n",
    "        if item == 'sinergise':\n",
    "            raster_extent, raster_bbox = get_extent(rasters[item]['ds'], geographic=True)\n",
    "            offset = 0.01 # degrees\n",
    "        else:\n",
    "            raster_extent, raster_bbox = get_extent(rasters[item]['ds'])\n",
    "            offset = 1000 # meters\n",
    "        im = ax2.imshow(item0, cmap=current_cmap, vmin=v_min, vmax=v_max, aspect='auto', extent=raster_extent)\n",
    "        plt.xticks(rotation=20)\n",
    "\n",
    "        ## Add bounding boxes ##\n",
    "        ax2.plot(raster_bbox[0], raster_bbox[1], 'k') # raster bbox\n",
    "        if warped:\n",
    "            ax2.plot(query_bbox[0], query_bbox[1], 'r') # query bbox\n",
    "\n",
    "        # Add grid lines\n",
    "        ax2.grid(b=True, which='major', color='gray', linestyle='-')\n",
    "        \n",
    "        # Make axis slightly larger\n",
    "        ax2.set_xlim(raster_extent[0]-offset, raster_extent[1]+offset)\n",
    "        ax2.set_ylim(raster_extent[2]-offset, raster_extent[3]+offset)\n",
    "    else:\n",
    "        im = ax2.imshow(item0, cmap=current_cmap, aspect='auto')\n",
    "\n",
    "    im = add_colorbar(im)\n",
    "    \n",
    "    del(item0, ax1, ax2)\n",
    "    \n",
    " \n",
    "fig.savefig(f'comparison_output/comparison_min-evi_{data_type}.png', bbox_inches='tight')"
   ]
  },
  {
   "cell_type": "code",
   "execution_count": null,
   "metadata": {},
   "outputs": [],
   "source": []
  },
  {
   "cell_type": "code",
   "execution_count": null,
   "metadata": {},
   "outputs": [],
   "source": []
  },
  {
   "cell_type": "code",
   "execution_count": null,
   "metadata": {},
   "outputs": [],
   "source": []
  }
 ],
 "metadata": {
  "kernelspec": {
   "display_name": "Python 3",
   "language": "python",
   "name": "python3"
  },
  "language_info": {
   "codemirror_mode": {
    "name": "ipython",
    "version": 3
   },
   "file_extension": ".py",
   "mimetype": "text/x-python",
   "name": "python",
   "nbconvert_exporter": "python",
   "pygments_lexer": "ipython3",
   "version": "3.7.3"
  }
 },
 "nbformat": 4,
 "nbformat_minor": 2
}
